{
 "cells": [
  {
   "cell_type": "markdown",
   "id": "9d0060c5",
   "metadata": {},
   "source": [
    "# The Sparks Foundations Data Science and Business Analytics"
   ]
  },
  {
   "cell_type": "markdown",
   "id": "f5b32af1",
   "metadata": {},
   "source": [
    "# Task-1 : Prediction Using Supervised Machine Learning"
   ]
  },
  {
   "cell_type": "markdown",
   "id": "dde908ef",
   "metadata": {},
   "source": [
    "# By: Sagar Malaviya"
   ]
  },
  {
   "cell_type": "markdown",
   "id": "bd8b47bd",
   "metadata": {},
   "source": [
    "## Here, we are importing necessary libraries..."
   ]
  },
  {
   "cell_type": "code",
   "execution_count": 1,
   "id": "cbc92295",
   "metadata": {},
   "outputs": [],
   "source": [
    "import numpy as np\n",
    "import pandas as pd\n",
    "import os\n",
    "import matplotlib.pyplot as plt\n",
    "from sklearn.model_selection import train_test_split \n",
    "from sklearn.linear_model import LinearRegression"
   ]
  },
  {
   "cell_type": "markdown",
   "id": "bed3d58c",
   "metadata": {},
   "source": [
    "## Here, we are importing input dataset with the help of given url"
   ]
  },
  {
   "cell_type": "code",
   "execution_count": 2,
   "id": "7463766d",
   "metadata": {},
   "outputs": [
    {
     "name": "stdout",
     "output_type": "stream",
     "text": [
      "Action successful\n"
     ]
    },
    {
     "data": {
      "text/html": [
       "<div>\n",
       "<style scoped>\n",
       "    .dataframe tbody tr th:only-of-type {\n",
       "        vertical-align: middle;\n",
       "    }\n",
       "\n",
       "    .dataframe tbody tr th {\n",
       "        vertical-align: top;\n",
       "    }\n",
       "\n",
       "    .dataframe thead th {\n",
       "        text-align: right;\n",
       "    }\n",
       "</style>\n",
       "<table border=\"1\" class=\"dataframe\">\n",
       "  <thead>\n",
       "    <tr style=\"text-align: right;\">\n",
       "      <th></th>\n",
       "      <th>Hours</th>\n",
       "      <th>Scores</th>\n",
       "    </tr>\n",
       "  </thead>\n",
       "  <tbody>\n",
       "    <tr>\n",
       "      <th>0</th>\n",
       "      <td>2.5</td>\n",
       "      <td>21</td>\n",
       "    </tr>\n",
       "    <tr>\n",
       "      <th>1</th>\n",
       "      <td>5.1</td>\n",
       "      <td>47</td>\n",
       "    </tr>\n",
       "    <tr>\n",
       "      <th>2</th>\n",
       "      <td>3.2</td>\n",
       "      <td>27</td>\n",
       "    </tr>\n",
       "    <tr>\n",
       "      <th>3</th>\n",
       "      <td>8.5</td>\n",
       "      <td>75</td>\n",
       "    </tr>\n",
       "    <tr>\n",
       "      <th>4</th>\n",
       "      <td>3.5</td>\n",
       "      <td>30</td>\n",
       "    </tr>\n",
       "    <tr>\n",
       "      <th>5</th>\n",
       "      <td>1.5</td>\n",
       "      <td>20</td>\n",
       "    </tr>\n",
       "    <tr>\n",
       "      <th>6</th>\n",
       "      <td>9.2</td>\n",
       "      <td>88</td>\n",
       "    </tr>\n",
       "    <tr>\n",
       "      <th>7</th>\n",
       "      <td>5.5</td>\n",
       "      <td>60</td>\n",
       "    </tr>\n",
       "  </tbody>\n",
       "</table>\n",
       "</div>"
      ],
      "text/plain": [
       "   Hours  Scores\n",
       "0    2.5      21\n",
       "1    5.1      47\n",
       "2    3.2      27\n",
       "3    8.5      75\n",
       "4    3.5      30\n",
       "5    1.5      20\n",
       "6    9.2      88\n",
       "7    5.5      60"
      ]
     },
     "execution_count": 2,
     "metadata": {},
     "output_type": "execute_result"
    }
   ],
   "source": [
    "url = \"http://bit.ly/w-data\" #URL was given by TSF\n",
    "frame = pd.read_csv(url)\n",
    "print(\"Action successful\")\n",
    "\n",
    "frame.head(8)"
   ]
  },
  {
   "cell_type": "markdown",
   "id": "06161fe4",
   "metadata": {},
   "source": [
    "## Here, we are performing visualization of data"
   ]
  },
  {
   "cell_type": "code",
   "execution_count": 3,
   "id": "62823e77",
   "metadata": {},
   "outputs": [
    {
     "data": {
      "image/png": "[encoded data removed]",
      "text/plain": [
       "<Figure size 432x288 with 1 Axes>"
      ]
     },
     "metadata": {
      "needs_background": "light"
     },
     "output_type": "display_data"
    }
   ],
   "source": [
    "frame.plot(x='Hours', y='Scores',style='o') \n",
    "plt.title('Hours vs Percentage')  \n",
    "plt.xlabel('Study Hours')  \n",
    "plt.ylabel('Percentage')  \n",
    "plt.show()"
   ]
  },
  {
   "cell_type": "code",
   "execution_count": 4,
   "id": "71aec5f1",
   "metadata": {},
   "outputs": [],
   "source": [
    "X = frame.iloc[:, :-1].values  \n",
    "Y = frame.iloc[:, 1].values"
   ]
  },
  {
   "cell_type": "markdown",
   "id": "8df37016",
   "metadata": {},
   "source": [
    "## Here, we are dividing input dataset into training and testing part to the train model"
   ]
  },
  {
   "cell_type": "code",
   "execution_count": 5,
   "id": "edd10453",
   "metadata": {},
   "outputs": [
    {
     "name": "stdout",
     "output_type": "stream",
     "text": [
      "Model is now trained.\n"
     ]
    }
   ],
   "source": [
    "X_train, X_test, Y_train, Y_test = train_test_split(X, Y, test_size=0.3, random_state=0) \n",
    "obj = LinearRegression()  # object used for training the model\n",
    "obj.fit(X_train.reshape(-1,1), Y_train) \n",
    "\n",
    "print(\"Model is now trained.\")"
   ]
  },
  {
   "cell_type": "markdown",
   "id": "7f3b5b0c",
   "metadata": {},
   "source": [
    "## Creating graphical representation of linear regression (with regression line)"
   ]
  },
  {
   "cell_type": "code",
   "execution_count": 6,
   "id": "7b1c3dd0",
   "metadata": {},
   "outputs": [
    {
     "data": {
      "image/png": "[encoded data removed]",
      "text/plain": [
       "<Figure size 432x288 with 1 Axes>"
      ]
     },
     "metadata": {
      "needs_background": "light"
     },
     "output_type": "display_data"
    }
   ],
   "source": [
    "# Will draw regression line\n",
    "line = obj.coef_*X+obj.intercept_\n",
    "\n",
    "# Plot testing data on graph\n",
    "plt.scatter(X,Y)\n",
    "plt.plot(X, line,color='orange') # assigning color to the regression line\n",
    "plt.title('Regression line for testing set')  \n",
    "plt.xlabel('Study Hours')  \n",
    "plt.ylabel('Percentage') \n",
    "plt.show()"
   ]
  },
  {
   "cell_type": "markdown",
   "id": "d5c0e08f",
   "metadata": {},
   "source": [
    "## Checking Accuracy of model by predicting own data."
   ]
  },
  {
   "cell_type": "code",
   "execution_count": 7,
   "id": "be615e46",
   "metadata": {},
   "outputs": [
    {
     "name": "stdout",
     "output_type": "stream",
     "text": [
      "[[1.5]\n",
      " [3.2]\n",
      " [7.4]\n",
      " [2.5]\n",
      " [5.9]\n",
      " [3.8]\n",
      " [1.9]\n",
      " [7.8]]\n",
      "[17.05366541 33.69422878 74.80620886 26.8422321  60.12335883 39.56736879\n",
      " 20.96909209 78.72163554]\n"
     ]
    }
   ],
   "source": [
    "Y_pred = obj.predict(X_test) #Makes prediction by X_test variable and stores in Y_pred\n",
    "print(X_test)\n",
    "print(Y_pred)"
   ]
  },
  {
   "cell_type": "markdown",
   "id": "5f8ff116",
   "metadata": {},
   "source": [
    "## Comparing between actual and predicted values."
   ]
  },
  {
   "cell_type": "code",
   "execution_count": 8,
   "id": "3fb4bdf1",
   "metadata": {},
   "outputs": [
    {
     "data": {
      "text/html": [
       "<div>\n",
       "<style scoped>\n",
       "    .dataframe tbody tr th:only-of-type {\n",
       "        vertical-align: middle;\n",
       "    }\n",
       "\n",
       "    .dataframe tbody tr th {\n",
       "        vertical-align: top;\n",
       "    }\n",
       "\n",
       "    .dataframe thead th {\n",
       "        text-align: right;\n",
       "    }\n",
       "</style>\n",
       "<table border=\"1\" class=\"dataframe\">\n",
       "  <thead>\n",
       "    <tr style=\"text-align: right;\">\n",
       "      <th></th>\n",
       "      <th>Actual-Value</th>\n",
       "      <th>Predicted-Value</th>\n",
       "    </tr>\n",
       "  </thead>\n",
       "  <tbody>\n",
       "    <tr>\n",
       "      <th>0</th>\n",
       "      <td>20</td>\n",
       "      <td>17.053665</td>\n",
       "    </tr>\n",
       "    <tr>\n",
       "      <th>1</th>\n",
       "      <td>27</td>\n",
       "      <td>33.694229</td>\n",
       "    </tr>\n",
       "    <tr>\n",
       "      <th>2</th>\n",
       "      <td>69</td>\n",
       "      <td>74.806209</td>\n",
       "    </tr>\n",
       "    <tr>\n",
       "      <th>3</th>\n",
       "      <td>30</td>\n",
       "      <td>26.842232</td>\n",
       "    </tr>\n",
       "    <tr>\n",
       "      <th>4</th>\n",
       "      <td>62</td>\n",
       "      <td>60.123359</td>\n",
       "    </tr>\n",
       "    <tr>\n",
       "      <th>5</th>\n",
       "      <td>35</td>\n",
       "      <td>39.567369</td>\n",
       "    </tr>\n",
       "    <tr>\n",
       "      <th>6</th>\n",
       "      <td>24</td>\n",
       "      <td>20.969092</td>\n",
       "    </tr>\n",
       "    <tr>\n",
       "      <th>7</th>\n",
       "      <td>86</td>\n",
       "      <td>78.721636</td>\n",
       "    </tr>\n",
       "  </tbody>\n",
       "</table>\n",
       "</div>"
      ],
      "text/plain": [
       "   Actual-Value  Predicted-Value\n",
       "0            20        17.053665\n",
       "1            27        33.694229\n",
       "2            69        74.806209\n",
       "3            30        26.842232\n",
       "4            62        60.123359\n",
       "5            35        39.567369\n",
       "6            24        20.969092\n",
       "7            86        78.721636"
      ]
     },
     "execution_count": 8,
     "metadata": {},
     "output_type": "execute_result"
    }
   ],
   "source": [
    "df = pd.DataFrame({'Actual-Value' : Y_test, 'Predicted-Value' : Y_pred})\n",
    "df"
   ]
  },
  {
   "cell_type": "markdown",
   "id": "bba244fa",
   "metadata": {},
   "source": [
    "## Evaluation of testing and training score"
   ]
  },
  {
   "cell_type": "code",
   "execution_count": 9,
   "id": "d25f9fc1",
   "metadata": {},
   "outputs": [
    {
     "name": "stdout",
     "output_type": "stream",
     "text": [
      "Training Score: 0.9484997422695115\n",
      "Testing Score : 0.9568211104435257\n"
     ]
    }
   ],
   "source": [
    "print(\"Training Score:\", obj.score(X_train,Y_train))\n",
    "print(\"Testing Score :\", obj.score(X_test,Y_test))"
   ]
  },
  {
   "cell_type": "markdown",
   "id": "d925a83e",
   "metadata": {},
   "source": [
    "## Here is the bar-graph of actual and predicted values."
   ]
  },
  {
   "cell_type": "code",
   "execution_count": 10,
   "id": "d63d9a76",
   "metadata": {},
   "outputs": [
    {
     "data": {
      "image/png": "[encoded data removed]",
      "text/plain": [
       "<Figure size 432x432 with 1 Axes>"
      ]
     },
     "metadata": {
      "needs_background": "light"
     },
     "output_type": "display_data"
    }
   ],
   "source": [
    "df.plot(kind='bar',figsize=(6,6))\n",
    "plt.show()"
   ]
  },
  {
   "cell_type": "markdown",
   "id": "439a6778",
   "metadata": {},
   "source": [
    "## Here, the user need to give input for prediction"
   ]
  },
  {
   "cell_type": "code",
   "execution_count": 11,
   "id": "fa6c072c",
   "metadata": {},
   "outputs": [
    {
     "name": "stdout",
     "output_type": "stream",
     "text": [
      "Please, enter number of study hours :10\n",
      "Study hours are/is : 10.0\n",
      "Estimated Percentage : 100.25648224983235\n"
     ]
    }
   ],
   "source": [
    "num_of_hours = float(input(\"Please, enter number of study hours :\"))\n",
    "res = np.array([num_of_hours])\n",
    "res = res.reshape(-1, 1)\n",
    "prediction = obj.predict(res)\n",
    "\n",
    "print(\"Study hours are/is : {}\".format(num_of_hours))\n",
    "print(\"Estimated Percentage : {}\".format(prediction[0]))"
   ]
  },
  {
   "cell_type": "markdown",
   "id": "12ea2d36",
   "metadata": {},
   "source": [
    "## Model accuracy by evaluating algorithm efficiency"
   ]
  },
  {
   "cell_type": "code",
   "execution_count": 12,
   "id": "c868bf91",
   "metadata": {},
   "outputs": [],
   "source": [
    "from sklearn import metrics"
   ]
  },
  {
   "cell_type": "code",
   "execution_count": 13,
   "id": "cc6288f9",
   "metadata": {},
   "outputs": [
    {
     "name": "stdout",
     "output_type": "stream",
     "text": [
      "Mean Square Error of model is: 22.96509721270043\n"
     ]
    }
   ],
   "source": [
    "print('Mean Square Error of model is:', metrics.mean_squared_error(Y_test, Y_pred))"
   ]
  },
  {
   "cell_type": "code",
   "execution_count": 14,
   "id": "eb6faa04",
   "metadata": {},
   "outputs": [
    {
     "name": "stdout",
     "output_type": "stream",
     "text": [
      "R2 Score: 0.9568211104435257\n"
     ]
    }
   ],
   "source": [
    "print('R2 Score:', metrics.r2_score(Y_test, Y_pred))"
   ]
  },
  {
   "cell_type": "code",
   "execution_count": 15,
   "id": "0cf345ff",
   "metadata": {},
   "outputs": [
    {
     "name": "stdout",
     "output_type": "stream",
     "text": [
      "Mean Absolute Error of model is: 4.419727808027652\n"
     ]
    }
   ],
   "source": [
    "print('Mean Absolute Error of model is:',metrics.mean_absolute_error(Y_test, Y_pred))"
   ]
  },
  {
   "cell_type": "code",
   "execution_count": 16,
   "id": "de89951a",
   "metadata": {},
   "outputs": [
    {
     "name": "stdout",
     "output_type": "stream",
     "text": [
      "Root Mean Squared Error of model is: 4.792191274636315\n"
     ]
    }
   ],
   "source": [
    "print('Root Mean Squared Error of model is:', np.sqrt(metrics.mean_squared_error(Y_test, Y_pred)))"
   ]
  }
 ],
 "metadata": {
  "kernelspec": {
   "display_name": "Python 3 (ipykernel)",
   "language": "python",
   "name": "python3"
  },
  "language_info": {
   "codemirror_mode": {
    "name": "ipython",
    "version": 3
   },
   "file_extension": ".py",
   "mimetype": "text/x-python",
   "name": "python",
   "nbconvert_exporter": "python",
   "pygments_lexer": "ipython3",
   "version": "3.10.1"
  }
 },
 "nbformat": 4,
 "nbformat_minor": 5
}
